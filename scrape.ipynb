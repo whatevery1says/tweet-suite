{
 "cells": [
  {
   "cell_type": "markdown",
   "metadata": {},
   "source": [
    "# Twitter Scraper\n",
    "\n",
    "This is a notebook implementation of `scrape.py`\n",
    "\n",
    "Last update: July 4 2020."
   ]
  },
  {
   "cell_type": "markdown",
   "metadata": {},
   "source": [
    "## Configuration\n",
    "\n",
    "You must configure the output directory and format ('json' or 'csv') for the scraped data. Scraping takes place using the Python [twint](https://github.com/twintproject/twint/wiki/Module) library, which has many options that can be passed to the script through the `options` dictionary. See the [twint documentation](https://github.com/twintproject/twint/wiki/Configuration#search) for a full range of options available to the `Search` method."
   ]
  },
  {
   "cell_type": "code",
   "execution_count": null,
   "metadata": {},
   "outputs": [],
   "source": [
    "output_dir     = ''\n",
    "output_format  = 'json' # 'csv'\n",
    "options        = {\n",
    "    'username': 'sekleinman'\n",
    "}"
   ]
  },
  {
   "cell_type": "markdown",
   "metadata": {},
   "source": [
    "## Run the Scraper"
   ]
  },
  {
   "cell_type": "code",
   "execution_count": null,
   "metadata": {},
   "outputs": [],
   "source": [
    "%run twitter_scraper.py\n",
    "\n",
    "scraper = TwitterScraper(output_dir, output_format, options)\n",
    "scraper.scrape()"
   ]
  }
 ],
 "metadata": {
  "kernelspec": {
   "display_name": "Python 3",
   "language": "python",
   "name": "python3"
  },
  "language_info": {
   "codemirror_mode": {
    "name": "ipython",
    "version": 3
   },
   "file_extension": ".py",
   "mimetype": "text/x-python",
   "name": "python",
   "nbconvert_exporter": "python",
   "pygments_lexer": "ipython3",
   "version": "3.6.8"
  }
 },
 "nbformat": 4,
 "nbformat_minor": 2
}